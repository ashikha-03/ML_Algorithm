{
  "nbformat": 4,
  "nbformat_minor": 0,
  "metadata": {
    "colab": {
      "provenance": []
    },
    "kernelspec": {
      "name": "python3",
      "display_name": "Python 3"
    },
    "language_info": {
      "name": "python"
    }
  },
  "cells": [
    {
      "cell_type": "code",
      "source": [
        "import numpy as np\n",
        "import pandas as pd\n",
        "import sklearn\n"
      ],
      "metadata": {
        "id": "W7PWOiknqYAe"
      },
      "execution_count": null,
      "outputs": []
    },
    {
      "cell_type": "code",
      "source": [
        "train_df=pd.read_csv('https://raw.githubusercontent.com/ezioauditore-tech/AI/main/datasets/amazon-employee-access-challenge/train.csv')"
      ],
      "metadata": {
        "id": "uI-4EV_bp8ZE"
      },
      "execution_count": null,
      "outputs": []
    },
    {
      "cell_type": "code",
      "source": [
        "test_df = pd.read_csv('https://github.com/ezioauditore-tech/AI/raw/main/datasets/amazon-employee-access-challenge/test.csv')"
      ],
      "metadata": {
        "id": "YibbsyB92iY4"
      },
      "execution_count": null,
      "outputs": []
    },
    {
      "cell_type": "code",
      "source": [
        "!pip install -q numpy pandas catboost hyperopt scikit-learn matplotlib"
      ],
      "metadata": {
        "id": "qy1S9wlRsLa7"
      },
      "execution_count": null,
      "outputs": []
    },
    {
      "cell_type": "code",
      "source": [
        "train_df.head()"
      ],
      "metadata": {
        "colab": {
          "base_uri": "https://localhost:8080/",
          "height": 206
        },
        "id": "dMvktuk8tMuS",
        "outputId": "32e58256-fb1e-4ae6-a92f-8385d4f28cc0"
      },
      "execution_count": null,
      "outputs": [
        {
          "output_type": "execute_result",
          "data": {
            "text/plain": [
              "   ACTION  RESOURCE  MGR_ID  ROLE_ROLLUP_1  ROLE_ROLLUP_2  ROLE_DEPTNAME  \\\n",
              "0       1     39353   85475         117961         118300         123472   \n",
              "1       1     17183    1540         117961         118343         123125   \n",
              "2       1     36724   14457         118219         118220         117884   \n",
              "3       1     36135    5396         117961         118343         119993   \n",
              "4       1     42680    5905         117929         117930         119569   \n",
              "\n",
              "   ROLE_TITLE  ROLE_FAMILY_DESC  ROLE_FAMILY  ROLE_CODE  \n",
              "0      117905            117906       290919     117908  \n",
              "1      118536            118536       308574     118539  \n",
              "2      117879            267952        19721     117880  \n",
              "3      118321            240983       290919     118322  \n",
              "4      119323            123932        19793     119325  "
            ],
            "text/html": [
              "\n",
              "  <div id=\"df-495a15b2-231d-4ddd-a29c-7ec151e1aae5\" class=\"colab-df-container\">\n",
              "    <div>\n",
              "<style scoped>\n",
              "    .dataframe tbody tr th:only-of-type {\n",
              "        vertical-align: middle;\n",
              "    }\n",
              "\n",
              "    .dataframe tbody tr th {\n",
              "        vertical-align: top;\n",
              "    }\n",
              "\n",
              "    .dataframe thead th {\n",
              "        text-align: right;\n",
              "    }\n",
              "</style>\n",
              "<table border=\"1\" class=\"dataframe\">\n",
              "  <thead>\n",
              "    <tr style=\"text-align: right;\">\n",
              "      <th></th>\n",
              "      <th>ACTION</th>\n",
              "      <th>RESOURCE</th>\n",
              "      <th>MGR_ID</th>\n",
              "      <th>ROLE_ROLLUP_1</th>\n",
              "      <th>ROLE_ROLLUP_2</th>\n",
              "      <th>ROLE_DEPTNAME</th>\n",
              "      <th>ROLE_TITLE</th>\n",
              "      <th>ROLE_FAMILY_DESC</th>\n",
              "      <th>ROLE_FAMILY</th>\n",
              "      <th>ROLE_CODE</th>\n",
              "    </tr>\n",
              "  </thead>\n",
              "  <tbody>\n",
              "    <tr>\n",
              "      <th>0</th>\n",
              "      <td>1</td>\n",
              "      <td>39353</td>\n",
              "      <td>85475</td>\n",
              "      <td>117961</td>\n",
              "      <td>118300</td>\n",
              "      <td>123472</td>\n",
              "      <td>117905</td>\n",
              "      <td>117906</td>\n",
              "      <td>290919</td>\n",
              "      <td>117908</td>\n",
              "    </tr>\n",
              "    <tr>\n",
              "      <th>1</th>\n",
              "      <td>1</td>\n",
              "      <td>17183</td>\n",
              "      <td>1540</td>\n",
              "      <td>117961</td>\n",
              "      <td>118343</td>\n",
              "      <td>123125</td>\n",
              "      <td>118536</td>\n",
              "      <td>118536</td>\n",
              "      <td>308574</td>\n",
              "      <td>118539</td>\n",
              "    </tr>\n",
              "    <tr>\n",
              "      <th>2</th>\n",
              "      <td>1</td>\n",
              "      <td>36724</td>\n",
              "      <td>14457</td>\n",
              "      <td>118219</td>\n",
              "      <td>118220</td>\n",
              "      <td>117884</td>\n",
              "      <td>117879</td>\n",
              "      <td>267952</td>\n",
              "      <td>19721</td>\n",
              "      <td>117880</td>\n",
              "    </tr>\n",
              "    <tr>\n",
              "      <th>3</th>\n",
              "      <td>1</td>\n",
              "      <td>36135</td>\n",
              "      <td>5396</td>\n",
              "      <td>117961</td>\n",
              "      <td>118343</td>\n",
              "      <td>119993</td>\n",
              "      <td>118321</td>\n",
              "      <td>240983</td>\n",
              "      <td>290919</td>\n",
              "      <td>118322</td>\n",
              "    </tr>\n",
              "    <tr>\n",
              "      <th>4</th>\n",
              "      <td>1</td>\n",
              "      <td>42680</td>\n",
              "      <td>5905</td>\n",
              "      <td>117929</td>\n",
              "      <td>117930</td>\n",
              "      <td>119569</td>\n",
              "      <td>119323</td>\n",
              "      <td>123932</td>\n",
              "      <td>19793</td>\n",
              "      <td>119325</td>\n",
              "    </tr>\n",
              "  </tbody>\n",
              "</table>\n",
              "</div>\n",
              "    <div class=\"colab-df-buttons\">\n",
              "\n",
              "  <div class=\"colab-df-container\">\n",
              "    <button class=\"colab-df-convert\" onclick=\"convertToInteractive('df-495a15b2-231d-4ddd-a29c-7ec151e1aae5')\"\n",
              "            title=\"Convert this dataframe to an interactive table.\"\n",
              "            style=\"display:none;\">\n",
              "\n",
              "  <svg xmlns=\"http://www.w3.org/2000/svg\" height=\"24px\" viewBox=\"0 -960 960 960\">\n",
              "    <path d=\"M120-120v-720h720v720H120Zm60-500h600v-160H180v160Zm220 220h160v-160H400v160Zm0 220h160v-160H400v160ZM180-400h160v-160H180v160Zm440 0h160v-160H620v160ZM180-180h160v-160H180v160Zm440 0h160v-160H620v160Z\"/>\n",
              "  </svg>\n",
              "    </button>\n",
              "\n",
              "  <style>\n",
              "    .colab-df-container {\n",
              "      display:flex;\n",
              "      gap: 12px;\n",
              "    }\n",
              "\n",
              "    .colab-df-convert {\n",
              "      background-color: #E8F0FE;\n",
              "      border: none;\n",
              "      border-radius: 50%;\n",
              "      cursor: pointer;\n",
              "      display: none;\n",
              "      fill: #1967D2;\n",
              "      height: 32px;\n",
              "      padding: 0 0 0 0;\n",
              "      width: 32px;\n",
              "    }\n",
              "\n",
              "    .colab-df-convert:hover {\n",
              "      background-color: #E2EBFA;\n",
              "      box-shadow: 0px 1px 2px rgba(60, 64, 67, 0.3), 0px 1px 3px 1px rgba(60, 64, 67, 0.15);\n",
              "      fill: #174EA6;\n",
              "    }\n",
              "\n",
              "    .colab-df-buttons div {\n",
              "      margin-bottom: 4px;\n",
              "    }\n",
              "\n",
              "    [theme=dark] .colab-df-convert {\n",
              "      background-color: #3B4455;\n",
              "      fill: #D2E3FC;\n",
              "    }\n",
              "\n",
              "    [theme=dark] .colab-df-convert:hover {\n",
              "      background-color: #434B5C;\n",
              "      box-shadow: 0px 1px 3px 1px rgba(0, 0, 0, 0.15);\n",
              "      filter: drop-shadow(0px 1px 2px rgba(0, 0, 0, 0.3));\n",
              "      fill: #FFFFFF;\n",
              "    }\n",
              "  </style>\n",
              "\n",
              "    <script>\n",
              "      const buttonEl =\n",
              "        document.querySelector('#df-495a15b2-231d-4ddd-a29c-7ec151e1aae5 button.colab-df-convert');\n",
              "      buttonEl.style.display =\n",
              "        google.colab.kernel.accessAllowed ? 'block' : 'none';\n",
              "\n",
              "      async function convertToInteractive(key) {\n",
              "        const element = document.querySelector('#df-495a15b2-231d-4ddd-a29c-7ec151e1aae5');\n",
              "        const dataTable =\n",
              "          await google.colab.kernel.invokeFunction('convertToInteractive',\n",
              "                                                    [key], {});\n",
              "        if (!dataTable) return;\n",
              "\n",
              "        const docLinkHtml = 'Like what you see? Visit the ' +\n",
              "          '<a target=\"_blank\" href=https://colab.research.google.com/notebooks/data_table.ipynb>data table notebook</a>'\n",
              "          + ' to learn more about interactive tables.';\n",
              "        element.innerHTML = '';\n",
              "        dataTable['output_type'] = 'display_data';\n",
              "        await google.colab.output.renderOutput(dataTable, element);\n",
              "        const docLink = document.createElement('div');\n",
              "        docLink.innerHTML = docLinkHtml;\n",
              "        element.appendChild(docLink);\n",
              "      }\n",
              "    </script>\n",
              "  </div>\n",
              "\n",
              "\n",
              "<div id=\"df-8a228ee3-df2f-4383-afe7-43e4891e5a45\">\n",
              "  <button class=\"colab-df-quickchart\" onclick=\"quickchart('df-8a228ee3-df2f-4383-afe7-43e4891e5a45')\"\n",
              "            title=\"Suggest charts\"\n",
              "            style=\"display:none;\">\n",
              "\n",
              "<svg xmlns=\"http://www.w3.org/2000/svg\" height=\"24px\"viewBox=\"0 0 24 24\"\n",
              "     width=\"24px\">\n",
              "    <g>\n",
              "        <path d=\"M19 3H5c-1.1 0-2 .9-2 2v14c0 1.1.9 2 2 2h14c1.1 0 2-.9 2-2V5c0-1.1-.9-2-2-2zM9 17H7v-7h2v7zm4 0h-2V7h2v10zm4 0h-2v-4h2v4z\"/>\n",
              "    </g>\n",
              "</svg>\n",
              "  </button>\n",
              "\n",
              "<style>\n",
              "  .colab-df-quickchart {\n",
              "      --bg-color: #E8F0FE;\n",
              "      --fill-color: #1967D2;\n",
              "      --hover-bg-color: #E2EBFA;\n",
              "      --hover-fill-color: #174EA6;\n",
              "      --disabled-fill-color: #AAA;\n",
              "      --disabled-bg-color: #DDD;\n",
              "  }\n",
              "\n",
              "  [theme=dark] .colab-df-quickchart {\n",
              "      --bg-color: #3B4455;\n",
              "      --fill-color: #D2E3FC;\n",
              "      --hover-bg-color: #434B5C;\n",
              "      --hover-fill-color: #FFFFFF;\n",
              "      --disabled-bg-color: #3B4455;\n",
              "      --disabled-fill-color: #666;\n",
              "  }\n",
              "\n",
              "  .colab-df-quickchart {\n",
              "    background-color: var(--bg-color);\n",
              "    border: none;\n",
              "    border-radius: 50%;\n",
              "    cursor: pointer;\n",
              "    display: none;\n",
              "    fill: var(--fill-color);\n",
              "    height: 32px;\n",
              "    padding: 0;\n",
              "    width: 32px;\n",
              "  }\n",
              "\n",
              "  .colab-df-quickchart:hover {\n",
              "    background-color: var(--hover-bg-color);\n",
              "    box-shadow: 0 1px 2px rgba(60, 64, 67, 0.3), 0 1px 3px 1px rgba(60, 64, 67, 0.15);\n",
              "    fill: var(--button-hover-fill-color);\n",
              "  }\n",
              "\n",
              "  .colab-df-quickchart-complete:disabled,\n",
              "  .colab-df-quickchart-complete:disabled:hover {\n",
              "    background-color: var(--disabled-bg-color);\n",
              "    fill: var(--disabled-fill-color);\n",
              "    box-shadow: none;\n",
              "  }\n",
              "\n",
              "  .colab-df-spinner {\n",
              "    border: 2px solid var(--fill-color);\n",
              "    border-color: transparent;\n",
              "    border-bottom-color: var(--fill-color);\n",
              "    animation:\n",
              "      spin 1s steps(1) infinite;\n",
              "  }\n",
              "\n",
              "  @keyframes spin {\n",
              "    0% {\n",
              "      border-color: transparent;\n",
              "      border-bottom-color: var(--fill-color);\n",
              "      border-left-color: var(--fill-color);\n",
              "    }\n",
              "    20% {\n",
              "      border-color: transparent;\n",
              "      border-left-color: var(--fill-color);\n",
              "      border-top-color: var(--fill-color);\n",
              "    }\n",
              "    30% {\n",
              "      border-color: transparent;\n",
              "      border-left-color: var(--fill-color);\n",
              "      border-top-color: var(--fill-color);\n",
              "      border-right-color: var(--fill-color);\n",
              "    }\n",
              "    40% {\n",
              "      border-color: transparent;\n",
              "      border-right-color: var(--fill-color);\n",
              "      border-top-color: var(--fill-color);\n",
              "    }\n",
              "    60% {\n",
              "      border-color: transparent;\n",
              "      border-right-color: var(--fill-color);\n",
              "    }\n",
              "    80% {\n",
              "      border-color: transparent;\n",
              "      border-right-color: var(--fill-color);\n",
              "      border-bottom-color: var(--fill-color);\n",
              "    }\n",
              "    90% {\n",
              "      border-color: transparent;\n",
              "      border-bottom-color: var(--fill-color);\n",
              "    }\n",
              "  }\n",
              "</style>\n",
              "\n",
              "  <script>\n",
              "    async function quickchart(key) {\n",
              "      const quickchartButtonEl =\n",
              "        document.querySelector('#' + key + ' button');\n",
              "      quickchartButtonEl.disabled = true;  // To prevent multiple clicks.\n",
              "      quickchartButtonEl.classList.add('colab-df-spinner');\n",
              "      try {\n",
              "        const charts = await google.colab.kernel.invokeFunction(\n",
              "            'suggestCharts', [key], {});\n",
              "      } catch (error) {\n",
              "        console.error('Error during call to suggestCharts:', error);\n",
              "      }\n",
              "      quickchartButtonEl.classList.remove('colab-df-spinner');\n",
              "      quickchartButtonEl.classList.add('colab-df-quickchart-complete');\n",
              "    }\n",
              "    (() => {\n",
              "      let quickchartButtonEl =\n",
              "        document.querySelector('#df-8a228ee3-df2f-4383-afe7-43e4891e5a45 button');\n",
              "      quickchartButtonEl.style.display =\n",
              "        google.colab.kernel.accessAllowed ? 'block' : 'none';\n",
              "    })();\n",
              "  </script>\n",
              "</div>\n",
              "\n",
              "    </div>\n",
              "  </div>\n"
            ]
          },
          "metadata": {},
          "execution_count": 98
        }
      ]
    },
    {
      "cell_type": "code",
      "source": [
        "from catboost import CatBoostClassifier\n",
        "from sklearn.metrics import accuracy_score\n",
        "from sklearn.metrics import classification_report\n",
        "from matplotlib import pyplot as plt\n",
        "from sklearn.preprocessing import LabelEncoder"
      ],
      "metadata": {
        "id": "9am3DEFJrdJL"
      },
      "execution_count": null,
      "outputs": []
    },
    {
      "cell_type": "code",
      "source": [
        "x=df.drop(\"ACTION\",axis=1)\n",
        "y=df[\"ACTION\"]"
      ],
      "metadata": {
        "id": "1ty9J3BQqa-N"
      },
      "execution_count": null,
      "outputs": []
    },
    {
      "cell_type": "code",
      "source": [
        "cat_features=list(range(0,x.shape[1]))\n",
        "print(cat_features)"
      ],
      "metadata": {
        "colab": {
          "base_uri": "https://localhost:8080/"
        },
        "id": "qpRqPI8Msu-K",
        "outputId": "f2efd547-ddfd-4107-e2d5-3867528132fa"
      },
      "execution_count": null,
      "outputs": [
        {
          "output_type": "stream",
          "name": "stdout",
          "text": [
            "[0, 1, 2, 3, 4, 5, 6, 7, 8]\n"
          ]
        }
      ]
    },
    {
      "cell_type": "code",
      "source": [
        "df.info()"
      ],
      "metadata": {
        "colab": {
          "base_uri": "https://localhost:8080/"
        },
        "id": "xvZPgImy0c_H",
        "outputId": "21ff75bf-4fb9-4158-e0be-a1fae18c5548"
      },
      "execution_count": null,
      "outputs": [
        {
          "output_type": "stream",
          "name": "stdout",
          "text": [
            "<class 'pandas.core.frame.DataFrame'>\n",
            "RangeIndex: 32769 entries, 0 to 32768\n",
            "Data columns (total 10 columns):\n",
            " #   Column            Non-Null Count  Dtype\n",
            "---  ------            --------------  -----\n",
            " 0   ACTION            32769 non-null  int64\n",
            " 1   RESOURCE          32769 non-null  int64\n",
            " 2   MGR_ID            32769 non-null  int64\n",
            " 3   ROLE_ROLLUP_1     32769 non-null  int64\n",
            " 4   ROLE_ROLLUP_2     32769 non-null  int64\n",
            " 5   ROLE_DEPTNAME     32769 non-null  int64\n",
            " 6   ROLE_TITLE        32769 non-null  int64\n",
            " 7   ROLE_FAMILY_DESC  32769 non-null  int64\n",
            " 8   ROLE_FAMILY       32769 non-null  int64\n",
            " 9   ROLE_CODE         32769 non-null  int64\n",
            "dtypes: int64(10)\n",
            "memory usage: 2.5 MB\n"
          ]
        }
      ]
    },
    {
      "cell_type": "code",
      "source": [
        "X = train_df.drop(\"ACTION\", axis=1)\n",
        "y = train_df[\"ACTION\"]"
      ],
      "metadata": {
        "id": "8txUkicH12BJ"
      },
      "execution_count": null,
      "outputs": []
    },
    {
      "cell_type": "code",
      "source": [
        "cat_features = list(range(0, X.shape[1]))\n",
        "print(cat_features)"
      ],
      "metadata": {
        "colab": {
          "base_uri": "https://localhost:8080/"
        },
        "id": "lS6X_2PM1_Ln",
        "outputId": "8e112854-bbf2-45b5-828a-0b4c57878032"
      },
      "execution_count": null,
      "outputs": [
        {
          "output_type": "stream",
          "name": "stdout",
          "text": [
            "[0, 1, 2, 3, 4, 5, 6, 7, 8]\n"
          ]
        }
      ]
    },
    {
      "cell_type": "code",
      "source": [
        "from sklearn.model_selection import train_test_split\n",
        "\n",
        "X_train, X_test, y_train, y_test = train_test_split(X, y, test_size=0.2, random_state=0)"
      ],
      "metadata": {
        "id": "IAetoRQZ0n79"
      },
      "execution_count": null,
      "outputs": []
    },
    {
      "cell_type": "code",
      "source": [
        "from catboost import CatBoostClassifier\n",
        "\n",
        "clf = CatBoostClassifier(\n",
        "    iterations=5,\n",
        "    learning_rate=0.1,\n",
        "    # loss_function='CrossEntropy'\n",
        ")\n",
        "\n",
        "\n",
        "clf.fit(X_train, y_train,\n",
        "        cat_features=cat_features,\n",
        "        eval_set=(X_val, y_val),\n",
        "        verbose=False\n",
        ")\n",
        "\n",
        "print('CatBoost model is fitted: ' + str(clf.is_fitted()))\n",
        "print('CatBoost model parameters:')\n",
        "print(clf.get_params())"
      ],
      "metadata": {
        "colab": {
          "base_uri": "https://localhost:8080/"
        },
        "id": "bsjDI0bw26b7",
        "outputId": "d54593de-f3ce-4a53-8f1a-ccc815091903"
      },
      "execution_count": null,
      "outputs": [
        {
          "output_type": "stream",
          "name": "stdout",
          "text": [
            "CatBoost model is fitted: True\n",
            "CatBoost model parameters:\n",
            "{'iterations': 5, 'learning_rate': 0.1}\n"
          ]
        }
      ]
    },
    {
      "cell_type": "code",
      "source": [
        "from catboost import CatBoostClassifier\n",
        "clf = CatBoostClassifier(\n",
        "    iterations=10,\n",
        "#     verbose=5,\n",
        ")\n",
        "\n",
        "clf.fit(\n",
        "    X_train, y_train,\n",
        "    cat_features=cat_features,\n",
        "    eval_set=(X_val, y_val),\n",
        ")"
      ],
      "metadata": {
        "colab": {
          "base_uri": "https://localhost:8080/"
        },
        "id": "7TB5stHR3BYu",
        "outputId": "1da44414-558b-4893-a8c5-dd74f545c4af"
      },
      "execution_count": null,
      "outputs": [
        {
          "output_type": "stream",
          "name": "stdout",
          "text": [
            "Learning rate set to 0.5\n",
            "0:\tlearn: 0.3971379\ttest: 0.3960691\tbest: 0.3960691 (0)\ttotal: 32.9ms\tremaining: 296ms\n",
            "1:\tlearn: 0.2948071\ttest: 0.2924021\tbest: 0.2924021 (1)\ttotal: 70.2ms\tremaining: 281ms\n",
            "2:\tlearn: 0.2485317\ttest: 0.2454599\tbest: 0.2454599 (2)\ttotal: 102ms\tremaining: 238ms\n",
            "3:\tlearn: 0.2234301\ttest: 0.2191836\tbest: 0.2191836 (3)\ttotal: 133ms\tremaining: 199ms\n",
            "4:\tlearn: 0.1999100\ttest: 0.1935203\tbest: 0.1935203 (4)\ttotal: 163ms\tremaining: 163ms\n",
            "5:\tlearn: 0.1911956\ttest: 0.1831193\tbest: 0.1831193 (5)\ttotal: 201ms\tremaining: 134ms\n",
            "6:\tlearn: 0.1854231\ttest: 0.1763719\tbest: 0.1763719 (6)\ttotal: 230ms\tremaining: 98.6ms\n",
            "7:\tlearn: 0.1818392\ttest: 0.1732419\tbest: 0.1732419 (7)\ttotal: 260ms\tremaining: 65ms\n",
            "8:\tlearn: 0.1789139\ttest: 0.1679366\tbest: 0.1679366 (8)\ttotal: 289ms\tremaining: 32.1ms\n",
            "9:\tlearn: 0.1777264\ttest: 0.1656210\tbest: 0.1656210 (9)\ttotal: 318ms\tremaining: 0us\n",
            "\n",
            "bestTest = 0.1656210392\n",
            "bestIteration = 9\n",
            "\n"
          ]
        },
        {
          "output_type": "execute_result",
          "data": {
            "text/plain": [
              "<catboost.core.CatBoostClassifier at 0x7d637c953340>"
            ]
          },
          "metadata": {},
          "execution_count": 107
        }
      ]
    },
    {
      "cell_type": "code",
      "source": [
        "from catboost import CatBoostClassifier\n",
        "from sklearn.metrics import accuracy_score\n",
        "from sklearn.metrics import classification_report\n",
        "from matplotlib import pyplot as plt\n",
        "from sklearn.preprocessing import LabelEncoder\n"
      ],
      "metadata": {
        "id": "dyM2Rb-w3zka"
      },
      "execution_count": null,
      "outputs": []
    },
    {
      "cell_type": "code",
      "source": [
        "model = CatBoostClassifier(iterations=100, learning_rate=0.1, depth=6)\n",
        "model.fit(X_train, y_train) # fit the model to training data\n",
        "\n",
        "y_pred = model.predict(X_test) # Predict on the testing data\n",
        "\n",
        "accuracy = accuracy_score(y_test, y_pred) #model performance\n",
        "classification_report = classification_report(y_test, y_pred)\n",
        "\n",
        "print(\"Accuracy:\", accuracy)\n",
        "print(\"Classification Report:\\n\", classification_report)\n"
      ],
      "metadata": {
        "colab": {
          "base_uri": "https://localhost:8080/"
        },
        "id": "ZWpNoSbm3PRD",
        "outputId": "b6e38f20-46e9-456b-f7b3-ce45ff6b41a6"
      },
      "execution_count": null,
      "outputs": [
        {
          "output_type": "stream",
          "name": "stdout",
          "text": [
            "0:\tlearn: 0.6197288\ttotal: 8.29ms\tremaining: 821ms\n",
            "1:\tlearn: 0.5593760\ttotal: 22.1ms\tremaining: 1.08s\n",
            "2:\tlearn: 0.5093199\ttotal: 33.1ms\tremaining: 1.07s\n",
            "3:\tlearn: 0.4673702\ttotal: 48.7ms\tremaining: 1.17s\n",
            "4:\tlearn: 0.4318976\ttotal: 61.4ms\tremaining: 1.17s\n",
            "5:\tlearn: 0.4018656\ttotal: 74.5ms\tremaining: 1.17s\n",
            "6:\tlearn: 0.3761663\ttotal: 86.6ms\tremaining: 1.15s\n",
            "7:\tlearn: 0.3542743\ttotal: 102ms\tremaining: 1.17s\n",
            "8:\tlearn: 0.3353551\ttotal: 115ms\tremaining: 1.16s\n",
            "9:\tlearn: 0.3189381\ttotal: 128ms\tremaining: 1.15s\n",
            "10:\tlearn: 0.3048754\ttotal: 141ms\tremaining: 1.14s\n",
            "11:\tlearn: 0.2926291\ttotal: 155ms\tremaining: 1.14s\n",
            "12:\tlearn: 0.2818713\ttotal: 168ms\tremaining: 1.12s\n",
            "13:\tlearn: 0.2727281\ttotal: 180ms\tremaining: 1.1s\n",
            "14:\tlearn: 0.2647655\ttotal: 195ms\tremaining: 1.1s\n",
            "15:\tlearn: 0.2579541\ttotal: 214ms\tremaining: 1.13s\n",
            "16:\tlearn: 0.2519134\ttotal: 228ms\tremaining: 1.11s\n",
            "17:\tlearn: 0.2467523\ttotal: 240ms\tremaining: 1.09s\n",
            "18:\tlearn: 0.2421004\ttotal: 255ms\tremaining: 1.09s\n",
            "19:\tlearn: 0.2380470\ttotal: 268ms\tremaining: 1.07s\n",
            "20:\tlearn: 0.2346713\ttotal: 281ms\tremaining: 1.06s\n",
            "21:\tlearn: 0.2316947\ttotal: 294ms\tremaining: 1.04s\n",
            "22:\tlearn: 0.2292536\ttotal: 307ms\tremaining: 1.03s\n",
            "23:\tlearn: 0.2270283\ttotal: 319ms\tremaining: 1.01s\n",
            "24:\tlearn: 0.2250349\ttotal: 335ms\tremaining: 1s\n",
            "25:\tlearn: 0.2230531\ttotal: 351ms\tremaining: 998ms\n",
            "26:\tlearn: 0.2212709\ttotal: 364ms\tremaining: 984ms\n",
            "27:\tlearn: 0.2200833\ttotal: 376ms\tremaining: 967ms\n",
            "28:\tlearn: 0.2183636\ttotal: 392ms\tremaining: 959ms\n",
            "29:\tlearn: 0.2172739\ttotal: 404ms\tremaining: 943ms\n",
            "30:\tlearn: 0.2162319\ttotal: 420ms\tremaining: 934ms\n",
            "31:\tlearn: 0.2148717\ttotal: 436ms\tremaining: 926ms\n",
            "32:\tlearn: 0.2137171\ttotal: 448ms\tremaining: 909ms\n",
            "33:\tlearn: 0.2128715\ttotal: 462ms\tremaining: 896ms\n",
            "34:\tlearn: 0.2118005\ttotal: 470ms\tremaining: 873ms\n",
            "35:\tlearn: 0.2110675\ttotal: 483ms\tremaining: 858ms\n",
            "36:\tlearn: 0.2101083\ttotal: 492ms\tremaining: 837ms\n",
            "37:\tlearn: 0.2097490\ttotal: 498ms\tremaining: 813ms\n",
            "38:\tlearn: 0.2090907\ttotal: 511ms\tremaining: 799ms\n",
            "39:\tlearn: 0.2087138\ttotal: 525ms\tremaining: 788ms\n",
            "40:\tlearn: 0.2081197\ttotal: 533ms\tremaining: 767ms\n",
            "41:\tlearn: 0.2077487\ttotal: 542ms\tremaining: 749ms\n",
            "42:\tlearn: 0.2073896\ttotal: 549ms\tremaining: 728ms\n",
            "43:\tlearn: 0.2067925\ttotal: 555ms\tremaining: 707ms\n",
            "44:\tlearn: 0.2061586\ttotal: 566ms\tremaining: 691ms\n",
            "45:\tlearn: 0.2057736\ttotal: 573ms\tremaining: 673ms\n",
            "46:\tlearn: 0.2051428\ttotal: 598ms\tremaining: 674ms\n",
            "47:\tlearn: 0.2048928\ttotal: 614ms\tremaining: 665ms\n",
            "48:\tlearn: 0.2043659\ttotal: 621ms\tremaining: 647ms\n",
            "49:\tlearn: 0.2038555\ttotal: 636ms\tremaining: 636ms\n",
            "50:\tlearn: 0.2033696\ttotal: 649ms\tremaining: 624ms\n",
            "51:\tlearn: 0.2029025\ttotal: 664ms\tremaining: 613ms\n",
            "52:\tlearn: 0.2025022\ttotal: 682ms\tremaining: 605ms\n",
            "53:\tlearn: 0.2022980\ttotal: 695ms\tremaining: 592ms\n",
            "54:\tlearn: 0.2020173\ttotal: 715ms\tremaining: 585ms\n",
            "55:\tlearn: 0.2016111\ttotal: 722ms\tremaining: 567ms\n",
            "56:\tlearn: 0.2011731\ttotal: 735ms\tremaining: 554ms\n",
            "57:\tlearn: 0.2008938\ttotal: 747ms\tremaining: 541ms\n",
            "58:\tlearn: 0.2006360\ttotal: 761ms\tremaining: 529ms\n",
            "59:\tlearn: 0.2002096\ttotal: 774ms\tremaining: 516ms\n",
            "60:\tlearn: 0.1999592\ttotal: 787ms\tremaining: 503ms\n",
            "61:\tlearn: 0.1997964\ttotal: 801ms\tremaining: 491ms\n",
            "62:\tlearn: 0.1995288\ttotal: 817ms\tremaining: 480ms\n",
            "63:\tlearn: 0.1992358\ttotal: 824ms\tremaining: 463ms\n",
            "64:\tlearn: 0.1988915\ttotal: 831ms\tremaining: 448ms\n",
            "65:\tlearn: 0.1987521\ttotal: 838ms\tremaining: 432ms\n",
            "66:\tlearn: 0.1984027\ttotal: 848ms\tremaining: 418ms\n",
            "67:\tlearn: 0.1980624\ttotal: 862ms\tremaining: 405ms\n",
            "68:\tlearn: 0.1977263\ttotal: 871ms\tremaining: 391ms\n",
            "69:\tlearn: 0.1972844\ttotal: 878ms\tremaining: 376ms\n",
            "70:\tlearn: 0.1968678\ttotal: 885ms\tremaining: 361ms\n",
            "71:\tlearn: 0.1965283\ttotal: 894ms\tremaining: 348ms\n",
            "72:\tlearn: 0.1962760\ttotal: 899ms\tremaining: 333ms\n",
            "73:\tlearn: 0.1959531\ttotal: 910ms\tremaining: 320ms\n",
            "74:\tlearn: 0.1956861\ttotal: 916ms\tremaining: 305ms\n",
            "75:\tlearn: 0.1954066\ttotal: 923ms\tremaining: 291ms\n",
            "76:\tlearn: 0.1950480\ttotal: 930ms\tremaining: 278ms\n",
            "77:\tlearn: 0.1948223\ttotal: 937ms\tremaining: 264ms\n",
            "78:\tlearn: 0.1946830\ttotal: 943ms\tremaining: 251ms\n",
            "79:\tlearn: 0.1943496\ttotal: 950ms\tremaining: 237ms\n",
            "80:\tlearn: 0.1941432\ttotal: 957ms\tremaining: 224ms\n",
            "81:\tlearn: 0.1939661\ttotal: 965ms\tremaining: 212ms\n",
            "82:\tlearn: 0.1937088\ttotal: 972ms\tremaining: 199ms\n",
            "83:\tlearn: 0.1935084\ttotal: 979ms\tremaining: 186ms\n",
            "84:\tlearn: 0.1931790\ttotal: 989ms\tremaining: 174ms\n",
            "85:\tlearn: 0.1928565\ttotal: 1s\tremaining: 164ms\n",
            "86:\tlearn: 0.1927235\ttotal: 1.02s\tremaining: 152ms\n",
            "87:\tlearn: 0.1925334\ttotal: 1.03s\tremaining: 141ms\n",
            "88:\tlearn: 0.1923670\ttotal: 1.04s\tremaining: 129ms\n",
            "89:\tlearn: 0.1921356\ttotal: 1.05s\tremaining: 117ms\n",
            "90:\tlearn: 0.1920016\ttotal: 1.06s\tremaining: 105ms\n",
            "91:\tlearn: 0.1916845\ttotal: 1.06s\tremaining: 92.6ms\n",
            "92:\tlearn: 0.1914349\ttotal: 1.07s\tremaining: 80.7ms\n",
            "93:\tlearn: 0.1911839\ttotal: 1.08s\tremaining: 68.9ms\n",
            "94:\tlearn: 0.1907398\ttotal: 1.09s\tremaining: 57.2ms\n",
            "95:\tlearn: 0.1904552\ttotal: 1.09s\tremaining: 45.6ms\n",
            "96:\tlearn: 0.1902974\ttotal: 1.1s\tremaining: 34.1ms\n",
            "97:\tlearn: 0.1900456\ttotal: 1.11s\tremaining: 22.7ms\n",
            "98:\tlearn: 0.1897886\ttotal: 1.13s\tremaining: 11.4ms\n",
            "99:\tlearn: 0.1894792\ttotal: 1.14s\tremaining: 0us\n",
            "Accuracy: 0.9433933475740006\n",
            "Classification Report:\n",
            "               precision    recall  f1-score   support\n",
            "\n",
            "           0       1.00      0.00      0.01       372\n",
            "           1       0.94      1.00      0.97      6182\n",
            "\n",
            "    accuracy                           0.94      6554\n",
            "   macro avg       0.97      0.50      0.49      6554\n",
            "weighted avg       0.95      0.94      0.92      6554\n",
            "\n"
          ]
        }
      ]
    },
    {
      "cell_type": "code",
      "source": [],
      "metadata": {
        "id": "lLTQoTF_4JOW"
      },
      "execution_count": null,
      "outputs": []
    },
    {
      "cell_type": "code",
      "source": [],
      "metadata": {
        "id": "3SjTGBCc99RT"
      },
      "execution_count": null,
      "outputs": []
    }
  ]
}